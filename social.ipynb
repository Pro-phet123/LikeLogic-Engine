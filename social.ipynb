{
 "cells": [
  {
   "cell_type": "code",
   "execution_count": 1,
   "metadata": {},
   "outputs": [
    {
     "name": "stdout",
     "output_type": "stream",
     "text": [
      "Defaulting to user installation because normal site-packages is not writeable\n",
      "Collecting pip==23.2.1\n",
      "  Using cached pip-23.2.1-py3-none-any.whl.metadata (4.2 kB)\n",
      "Using cached pip-23.2.1-py3-none-any.whl (2.1 MB)\n"
     ]
    },
    {
     "name": "stderr",
     "output_type": "stream",
     "text": [
      "ERROR: To modify pip, please run the following command:\n",
      "C:\\Program Files\\Python312\\python.exe -m pip install pip==23.2.1\n"
     ]
    }
   ],
   "source": [
    "! pip install pip==23.2.1\n"
   ]
  },
  {
   "cell_type": "code",
   "execution_count": 2,
   "metadata": {},
   "outputs": [
    {
     "name": "stdout",
     "output_type": "stream",
     "text": [
      "Defaulting to user installation because normal site-packages is not writeable\n",
      "Requirement already satisfied: streamlit==1.26.0 in c:\\users\\adeol\\appdata\\roaming\\python\\python312\\site-packages (1.26.0)\n",
      "Requirement already satisfied: altair<6,>=4.0 in c:\\users\\adeol\\appdata\\roaming\\python\\python312\\site-packages (from streamlit==1.26.0) (5.1.2)\n",
      "Requirement already satisfied: blinker<2,>=1.0.0 in c:\\users\\adeol\\appdata\\roaming\\python\\python312\\site-packages (from streamlit==1.26.0) (1.7.0)\n",
      "Requirement already satisfied: cachetools<6,>=4.0 in c:\\users\\adeol\\appdata\\roaming\\python\\python312\\site-packages (from streamlit==1.26.0) (5.3.2)\n",
      "Requirement already satisfied: click<9,>=7.0 in c:\\users\\adeol\\appdata\\roaming\\python\\python312\\site-packages (from streamlit==1.26.0) (8.1.7)\n",
      "Requirement already satisfied: importlib-metadata<7,>=1.4 in c:\\users\\adeol\\appdata\\roaming\\python\\python312\\site-packages (from streamlit==1.26.0) (6.8.0)\n",
      "Requirement already satisfied: numpy<2,>=1.19.3 in c:\\users\\adeol\\appdata\\roaming\\python\\python312\\site-packages (from streamlit==1.26.0) (1.26.2)\n",
      "Requirement already satisfied: packaging<24,>=16.8 in c:\\users\\adeol\\appdata\\roaming\\python\\python312\\site-packages (from streamlit==1.26.0) (23.2)\n",
      "Requirement already satisfied: pandas<3,>=1.3.0 in c:\\users\\adeol\\appdata\\roaming\\python\\python312\\site-packages (from streamlit==1.26.0) (2.1.3)\n",
      "Requirement already satisfied: pillow<10,>=7.1.0 in c:\\users\\adeol\\appdata\\roaming\\python\\python312\\site-packages (from streamlit==1.26.0) (9.5.0)\n",
      "Requirement already satisfied: protobuf<5,>=3.20 in c:\\users\\adeol\\appdata\\roaming\\python\\python312\\site-packages (from streamlit==1.26.0) (4.25.0)\n",
      "Requirement already satisfied: pyarrow>=6.0 in c:\\users\\adeol\\appdata\\roaming\\python\\python312\\site-packages (from streamlit==1.26.0) (14.0.1)\n",
      "Requirement already satisfied: pympler<2,>=0.9 in c:\\users\\adeol\\appdata\\roaming\\python\\python312\\site-packages (from streamlit==1.26.0) (1.0.1)\n",
      "Requirement already satisfied: python-dateutil<3,>=2.7.3 in c:\\users\\adeol\\appdata\\roaming\\python\\python312\\site-packages (from streamlit==1.26.0) (2.8.2)\n",
      "Requirement already satisfied: requests<3,>=2.18 in c:\\users\\adeol\\appdata\\roaming\\python\\python312\\site-packages (from streamlit==1.26.0) (2.31.0)\n",
      "Requirement already satisfied: rich<14,>=10.14.0 in c:\\users\\adeol\\appdata\\roaming\\python\\python312\\site-packages (from streamlit==1.26.0) (13.6.0)\n",
      "Requirement already satisfied: tenacity<9,>=8.1.0 in c:\\users\\adeol\\appdata\\roaming\\python\\python312\\site-packages (from streamlit==1.26.0) (8.2.3)\n",
      "Requirement already satisfied: toml<2,>=0.10.1 in c:\\users\\adeol\\appdata\\roaming\\python\\python312\\site-packages (from streamlit==1.26.0) (0.10.2)\n",
      "Requirement already satisfied: typing-extensions<5,>=4.1.0 in c:\\users\\adeol\\appdata\\roaming\\python\\python312\\site-packages (from streamlit==1.26.0) (4.8.0)\n",
      "Requirement already satisfied: tzlocal<5,>=1.1 in c:\\users\\adeol\\appdata\\roaming\\python\\python312\\site-packages (from streamlit==1.26.0) (4.3.1)\n",
      "Requirement already satisfied: validators<1,>=0.2 in c:\\users\\adeol\\appdata\\roaming\\python\\python312\\site-packages (from streamlit==1.26.0) (0.22.0)\n",
      "Requirement already satisfied: gitpython!=3.1.19,<4,>=3.0.7 in c:\\users\\adeol\\appdata\\roaming\\python\\python312\\site-packages (from streamlit==1.26.0) (3.1.40)\n",
      "Requirement already satisfied: pydeck<1,>=0.8 in c:\\users\\adeol\\appdata\\roaming\\python\\python312\\site-packages (from streamlit==1.26.0) (0.8.1b0)\n",
      "Requirement already satisfied: tornado<7,>=6.0.3 in c:\\users\\adeol\\appdata\\roaming\\python\\python312\\site-packages (from streamlit==1.26.0) (6.3.3)\n",
      "Requirement already satisfied: watchdog>=2.1.5 in c:\\users\\adeol\\appdata\\roaming\\python\\python312\\site-packages (from streamlit==1.26.0) (3.0.0)\n",
      "Requirement already satisfied: jinja2 in c:\\users\\adeol\\appdata\\roaming\\python\\python312\\site-packages (from altair<6,>=4.0->streamlit==1.26.0) (3.1.2)\n",
      "Requirement already satisfied: jsonschema>=3.0 in c:\\users\\adeol\\appdata\\roaming\\python\\python312\\site-packages (from altair<6,>=4.0->streamlit==1.26.0) (4.19.2)\n",
      "Requirement already satisfied: toolz in c:\\users\\adeol\\appdata\\roaming\\python\\python312\\site-packages (from altair<6,>=4.0->streamlit==1.26.0) (0.12.0)\n",
      "Requirement already satisfied: colorama in c:\\users\\adeol\\appdata\\roaming\\python\\python312\\site-packages (from click<9,>=7.0->streamlit==1.26.0) (0.4.6)\n",
      "Requirement already satisfied: gitdb<5,>=4.0.1 in c:\\users\\adeol\\appdata\\roaming\\python\\python312\\site-packages (from gitpython!=3.1.19,<4,>=3.0.7->streamlit==1.26.0) (4.0.11)\n",
      "Requirement already satisfied: zipp>=0.5 in c:\\users\\adeol\\appdata\\roaming\\python\\python312\\site-packages (from importlib-metadata<7,>=1.4->streamlit==1.26.0) (3.17.0)\n",
      "Requirement already satisfied: pytz>=2020.1 in c:\\users\\adeol\\appdata\\roaming\\python\\python312\\site-packages (from pandas<3,>=1.3.0->streamlit==1.26.0) (2023.3.post1)\n",
      "Requirement already satisfied: tzdata>=2022.1 in c:\\users\\adeol\\appdata\\roaming\\python\\python312\\site-packages (from pandas<3,>=1.3.0->streamlit==1.26.0) (2023.3)\n",
      "Requirement already satisfied: six>=1.5 in c:\\users\\adeol\\appdata\\roaming\\python\\python312\\site-packages (from python-dateutil<3,>=2.7.3->streamlit==1.26.0) (1.16.0)\n",
      "Requirement already satisfied: charset-normalizer<4,>=2 in c:\\users\\adeol\\appdata\\roaming\\python\\python312\\site-packages (from requests<3,>=2.18->streamlit==1.26.0) (3.3.2)\n",
      "Requirement already satisfied: idna<4,>=2.5 in c:\\users\\adeol\\appdata\\roaming\\python\\python312\\site-packages (from requests<3,>=2.18->streamlit==1.26.0) (3.4)\n",
      "Requirement already satisfied: urllib3<3,>=1.21.1 in c:\\users\\adeol\\appdata\\roaming\\python\\python312\\site-packages (from requests<3,>=2.18->streamlit==1.26.0) (2.0.7)\n",
      "Requirement already satisfied: certifi>=2017.4.17 in c:\\users\\adeol\\appdata\\roaming\\python\\python312\\site-packages (from requests<3,>=2.18->streamlit==1.26.0) (2023.7.22)\n",
      "Requirement already satisfied: markdown-it-py>=2.2.0 in c:\\users\\adeol\\appdata\\roaming\\python\\python312\\site-packages (from rich<14,>=10.14.0->streamlit==1.26.0) (3.0.0)\n",
      "Requirement already satisfied: pygments<3.0.0,>=2.13.0 in c:\\users\\adeol\\appdata\\roaming\\python\\python312\\site-packages (from rich<14,>=10.14.0->streamlit==1.26.0) (2.16.1)\n",
      "Requirement already satisfied: pytz-deprecation-shim in c:\\users\\adeol\\appdata\\roaming\\python\\python312\\site-packages (from tzlocal<5,>=1.1->streamlit==1.26.0) (0.1.0.post0)\n",
      "Requirement already satisfied: smmap<6,>=3.0.1 in c:\\users\\adeol\\appdata\\roaming\\python\\python312\\site-packages (from gitdb<5,>=4.0.1->gitpython!=3.1.19,<4,>=3.0.7->streamlit==1.26.0) (5.0.1)\n",
      "Requirement already satisfied: MarkupSafe>=2.0 in c:\\users\\adeol\\appdata\\roaming\\python\\python312\\site-packages (from jinja2->altair<6,>=4.0->streamlit==1.26.0) (2.1.3)\n",
      "Requirement already satisfied: attrs>=22.2.0 in c:\\users\\adeol\\appdata\\roaming\\python\\python312\\site-packages (from jsonschema>=3.0->altair<6,>=4.0->streamlit==1.26.0) (23.1.0)\n",
      "Requirement already satisfied: jsonschema-specifications>=2023.03.6 in c:\\users\\adeol\\appdata\\roaming\\python\\python312\\site-packages (from jsonschema>=3.0->altair<6,>=4.0->streamlit==1.26.0) (2023.7.1)\n",
      "Requirement already satisfied: referencing>=0.28.4 in c:\\users\\adeol\\appdata\\roaming\\python\\python312\\site-packages (from jsonschema>=3.0->altair<6,>=4.0->streamlit==1.26.0) (0.30.2)\n",
      "Requirement already satisfied: rpds-py>=0.7.1 in c:\\users\\adeol\\appdata\\roaming\\python\\python312\\site-packages (from jsonschema>=3.0->altair<6,>=4.0->streamlit==1.26.0) (0.12.0)\n",
      "Requirement already satisfied: mdurl~=0.1 in c:\\users\\adeol\\appdata\\roaming\\python\\python312\\site-packages (from markdown-it-py>=2.2.0->rich<14,>=10.14.0->streamlit==1.26.0) (0.1.2)\n"
     ]
    }
   ],
   "source": [
    "! pip install streamlit==1.26.0"
   ]
  },
  {
   "cell_type": "code",
   "execution_count": 3,
   "metadata": {},
   "outputs": [
    {
     "name": "stdout",
     "output_type": "stream",
     "text": [
      "Defaulting to user installation because normal site-packages is not writeable\n",
      "Requirement already satisfied: h5py in c:\\users\\adeol\\appdata\\roaming\\python\\python312\\site-packages (3.10.0)\n",
      "Requirement already satisfied: numpy>=1.17.3 in c:\\users\\adeol\\appdata\\roaming\\python\\python312\\site-packages (from h5py) (1.26.2)\n"
     ]
    }
   ],
   "source": [
    "! pip install --upgrade h5py "
   ]
  },
  {
   "cell_type": "code",
   "execution_count": 4,
   "metadata": {},
   "outputs": [
    {
     "name": "stdout",
     "output_type": "stream",
     "text": [
      "Defaulting to user installation because normal site-packages is not writeable\n",
      "Requirement already satisfied: tensorflow==1.8.0 in c:\\users\\adeol\\appdata\\roaming\\python\\python312\\site-packages (1.8.0)\n",
      "Requirement already satisfied: absl-py>=0.1.6 in c:\\users\\adeol\\appdata\\roaming\\python\\python312\\site-packages (from tensorflow==1.8.0) (2.0.0)\n",
      "Requirement already satisfied: astor>=0.6.0 in c:\\users\\adeol\\appdata\\roaming\\python\\python312\\site-packages (from tensorflow==1.8.0) (0.8.1)\n",
      "Requirement already satisfied: gast>=0.2.0 in c:\\users\\adeol\\appdata\\roaming\\python\\python312\\site-packages (from tensorflow==1.8.0) (0.5.4)\n",
      "Requirement already satisfied: numpy>=1.13.3 in c:\\users\\adeol\\appdata\\roaming\\python\\python312\\site-packages (from tensorflow==1.8.0) (1.26.2)\n",
      "Requirement already satisfied: six>=1.10.0 in c:\\users\\adeol\\appdata\\roaming\\python\\python312\\site-packages (from tensorflow==1.8.0) (1.16.0)\n",
      "Requirement already satisfied: protobuf>=3.4.0 in c:\\users\\adeol\\appdata\\roaming\\python\\python312\\site-packages (from tensorflow==1.8.0) (4.25.0)\n",
      "Requirement already satisfied: tensorboard<1.9.0,>=1.8.0 in c:\\users\\adeol\\appdata\\roaming\\python\\python312\\site-packages (from tensorflow==1.8.0) (1.8.0)\n",
      "Requirement already satisfied: termcolor>=1.1.0 in c:\\users\\adeol\\appdata\\roaming\\python\\python312\\site-packages (from tensorflow==1.8.0) (2.3.0)\n",
      "Requirement already satisfied: grpcio>=1.8.6 in c:\\users\\adeol\\appdata\\roaming\\python\\python312\\site-packages (from tensorflow==1.8.0) (1.59.2)\n",
      "Requirement already satisfied: wheel>=0.26 in c:\\users\\adeol\\appdata\\roaming\\python\\python312\\site-packages (from tensorflow==1.8.0) (0.41.3)\n",
      "Requirement already satisfied: werkzeug>=0.11.10 in c:\\users\\adeol\\appdata\\roaming\\python\\python312\\site-packages (from tensorboard<1.9.0,>=1.8.0->tensorflow==1.8.0) (3.0.1)\n",
      "Requirement already satisfied: html5lib==0.9999999 in c:\\users\\adeol\\appdata\\roaming\\python\\python312\\site-packages (from tensorboard<1.9.0,>=1.8.0->tensorflow==1.8.0) (0.9999999)\n",
      "Requirement already satisfied: markdown>=2.6.8 in c:\\users\\adeol\\appdata\\roaming\\python\\python312\\site-packages (from tensorboard<1.9.0,>=1.8.0->tensorflow==1.8.0) (3.5.1)\n",
      "Requirement already satisfied: bleach==1.5.0 in c:\\users\\adeol\\appdata\\roaming\\python\\python312\\site-packages (from tensorboard<1.9.0,>=1.8.0->tensorflow==1.8.0) (1.5.0)\n",
      "Requirement already satisfied: MarkupSafe>=2.1.1 in c:\\users\\adeol\\appdata\\roaming\\python\\python312\\site-packages (from werkzeug>=0.11.10->tensorboard<1.9.0,>=1.8.0->tensorflow==1.8.0) (2.1.3)\n"
     ]
    }
   ],
   "source": [
    "! pip install tensorflow==1.8.0"
   ]
  },
  {
   "cell_type": "code",
   "execution_count": 5,
   "metadata": {},
   "outputs": [
    {
     "name": "stdout",
     "output_type": "stream",
     "text": [
      "Defaulting to user installation because normal site-packages is not writeable\n",
      "Requirement already satisfied: numpy in c:\\users\\adeol\\appdata\\roaming\\python\\python312\\site-packages (1.26.2)\n"
     ]
    }
   ],
   "source": [
    "! pip install --upgrade numpy"
   ]
  },
  {
   "cell_type": "code",
   "execution_count": 6,
   "metadata": {},
   "outputs": [
    {
     "name": "stdout",
     "output_type": "stream",
     "text": [
      "Defaulting to user installation because normal site-packages is not writeableNote: you may need to restart the kernel to use updated packages.\n",
      "\n",
      "Requirement already satisfied: seaborn in c:\\users\\adeol\\appdata\\roaming\\python\\python312\\site-packages (0.13.0)\n",
      "Requirement already satisfied: numpy!=1.24.0,>=1.20 in c:\\users\\adeol\\appdata\\roaming\\python\\python312\\site-packages (from seaborn) (1.26.2)\n",
      "Requirement already satisfied: pandas>=1.2 in c:\\users\\adeol\\appdata\\roaming\\python\\python312\\site-packages (from seaborn) (2.1.3)\n",
      "Requirement already satisfied: matplotlib!=3.6.1,>=3.3 in c:\\users\\adeol\\appdata\\roaming\\python\\python312\\site-packages (from seaborn) (3.8.1)\n",
      "Requirement already satisfied: contourpy>=1.0.1 in c:\\users\\adeol\\appdata\\roaming\\python\\python312\\site-packages (from matplotlib!=3.6.1,>=3.3->seaborn) (1.2.0)\n",
      "Requirement already satisfied: cycler>=0.10 in c:\\users\\adeol\\appdata\\roaming\\python\\python312\\site-packages (from matplotlib!=3.6.1,>=3.3->seaborn) (0.12.1)\n",
      "Requirement already satisfied: fonttools>=4.22.0 in c:\\users\\adeol\\appdata\\roaming\\python\\python312\\site-packages (from matplotlib!=3.6.1,>=3.3->seaborn) (4.44.0)\n",
      "Requirement already satisfied: kiwisolver>=1.3.1 in c:\\users\\adeol\\appdata\\roaming\\python\\python312\\site-packages (from matplotlib!=3.6.1,>=3.3->seaborn) (1.4.5)\n",
      "Requirement already satisfied: packaging>=20.0 in c:\\users\\adeol\\appdata\\roaming\\python\\python312\\site-packages (from matplotlib!=3.6.1,>=3.3->seaborn) (23.2)\n",
      "Requirement already satisfied: pillow>=8 in c:\\users\\adeol\\appdata\\roaming\\python\\python312\\site-packages (from matplotlib!=3.6.1,>=3.3->seaborn) (9.5.0)\n",
      "Requirement already satisfied: pyparsing>=2.3.1 in c:\\users\\adeol\\appdata\\roaming\\python\\python312\\site-packages (from matplotlib!=3.6.1,>=3.3->seaborn) (3.1.1)\n",
      "Requirement already satisfied: python-dateutil>=2.7 in c:\\users\\adeol\\appdata\\roaming\\python\\python312\\site-packages (from matplotlib!=3.6.1,>=3.3->seaborn) (2.8.2)\n",
      "Requirement already satisfied: pytz>=2020.1 in c:\\users\\adeol\\appdata\\roaming\\python\\python312\\site-packages (from pandas>=1.2->seaborn) (2023.3.post1)\n",
      "Requirement already satisfied: tzdata>=2022.1 in c:\\users\\adeol\\appdata\\roaming\\python\\python312\\site-packages (from pandas>=1.2->seaborn) (2023.3)\n",
      "Requirement already satisfied: six>=1.5 in c:\\users\\adeol\\appdata\\roaming\\python\\python312\\site-packages (from python-dateutil>=2.7->matplotlib!=3.6.1,>=3.3->seaborn) (1.16.0)\n"
     ]
    }
   ],
   "source": [
    "%pip install  seaborn"
   ]
  },
  {
   "cell_type": "code",
   "execution_count": 7,
   "metadata": {},
   "outputs": [
    {
     "name": "stdout",
     "output_type": "stream",
     "text": [
      "Defaulting to user installation because normal site-packages is not writeable\n",
      "Requirement already satisfied: pandas in c:\\users\\adeol\\appdata\\roaming\\python\\python312\\site-packages (2.1.3)\n",
      "Requirement already satisfied: numpy<2,>=1.26.0 in c:\\users\\adeol\\appdata\\roaming\\python\\python312\\site-packages (from pandas) (1.26.2)\n",
      "Requirement already satisfied: python-dateutil>=2.8.2 in c:\\users\\adeol\\appdata\\roaming\\python\\python312\\site-packages (from pandas) (2.8.2)\n",
      "Requirement already satisfied: pytz>=2020.1 in c:\\users\\adeol\\appdata\\roaming\\python\\python312\\site-packages (from pandas) (2023.3.post1)\n",
      "Requirement already satisfied: tzdata>=2022.1 in c:\\users\\adeol\\appdata\\roaming\\python\\python312\\site-packages (from pandas) (2023.3)\n",
      "Requirement already satisfied: six>=1.5 in c:\\users\\adeol\\appdata\\roaming\\python\\python312\\site-packages (from python-dateutil>=2.8.2->pandas) (1.16.0)\n"
     ]
    }
   ],
   "source": [
    "! pip install --upgrade pandas"
   ]
  },
  {
   "cell_type": "code",
   "execution_count": 8,
   "metadata": {},
   "outputs": [
    {
     "name": "stdout",
     "output_type": "stream",
     "text": [
      "Defaulting to user installation because normal site-packages is not writeable\n",
      "Requirement already satisfied: keras in c:\\users\\adeol\\appdata\\roaming\\python\\python312\\site-packages (2.15.0)\n"
     ]
    }
   ],
   "source": [
    "! pip install keras\n"
   ]
  },
  {
   "cell_type": "code",
   "execution_count": 9,
   "metadata": {},
   "outputs": [
    {
     "name": "stdout",
     "output_type": "stream",
     "text": [
      "Defaulting to user installation because normal site-packages is not writeable\n",
      "Requirement already satisfied: tables in c:\\users\\adeol\\appdata\\roaming\\python\\python312\\site-packages (3.9.1)\n",
      "Requirement already satisfied: numpy>=1.19.0 in c:\\users\\adeol\\appdata\\roaming\\python\\python312\\site-packages (from tables) (1.26.2)\n",
      "Requirement already satisfied: numexpr>=2.6.2 in c:\\users\\adeol\\appdata\\roaming\\python\\python312\\site-packages (from tables) (2.8.7)\n",
      "Requirement already satisfied: packaging in c:\\users\\adeol\\appdata\\roaming\\python\\python312\\site-packages (from tables) (23.2)\n",
      "Requirement already satisfied: py-cpuinfo in c:\\users\\adeol\\appdata\\roaming\\python\\python312\\site-packages (from tables) (9.0.0)\n",
      "Requirement already satisfied: blosc2>=2.2.8 in c:\\users\\adeol\\appdata\\roaming\\python\\python312\\site-packages (from tables) (2.3.1)\n",
      "Requirement already satisfied: ndindex>=1.4 in c:\\users\\adeol\\appdata\\roaming\\python\\python312\\site-packages (from blosc2>=2.2.8->tables) (1.7)\n",
      "Requirement already satisfied: msgpack in c:\\users\\adeol\\appdata\\roaming\\python\\python312\\site-packages (from blosc2>=2.2.8->tables) (1.0.7)\n"
     ]
    }
   ],
   "source": [
    "! pip install --upgrade tables"
   ]
  },
  {
   "cell_type": "code",
   "execution_count": 10,
   "metadata": {},
   "outputs": [
    {
     "name": "stdout",
     "output_type": "stream",
     "text": [
      "Overwriting social.py\n"
     ]
    }
   ],
   "source": [
    "%%writefile social.py\n",
    "#LikeLogic-Engine\n",
    "import streamlit as st\n",
    "import numpy as np\n",
    "import seaborn as sns\n",
    "import tensorflow as tf\n",
    "import matplotlib.pyplot as plt\n",
    "import pandas as pd\n",
    "from keras.models import load_model\n",
    "import h5py\n",
    "import os\n",
    "\n",
    "header = st.container()\n",
    "dataset = st.container()\n",
    "visualisations = st.container()\n",
    "model_training = st.container()\n",
    "\n",
    "@st.cache_data\n",
    "def get_data(filename):\n",
    "    data = pd.read_csv(filename)\n",
    "    return data\n",
    "\n",
    "with header:\n",
    "    st.title('LikeLogic-Engine')\n",
    "    st.text('In my project, I created a web app that informs (a Prediction) a company\\n the amount of likes they will get for their post per day.')\n",
    "\n",
    "# Set the background image\n",
    "st.markdown(\n",
    "    \"\"\"\n",
    "    <style>\n",
    "        body {\n",
    "            background-image: url('media.jpg');\n",
    "            background-size: cover;\n",
    "        }\n",
    "    </style>\n",
    "    \"\"\",\n",
    "    unsafe_allow_html=True\n",
    ")\n",
    "\n",
    "with dataset:\n",
    "    st.header(\"The company's facebook dataset of their user interactions\")\n",
    "    st.text(\"The company's facebook dataset of their user interactions contains 1226 columns/features and 34,328 entries\")\n",
    "    Users_interactions = get_data('interactions.csv')\n",
    "    st.write(Users_interactions.head())\n",
    "\n",
    "with visualisations:\n",
    "    st.header('visualisation')\n",
    "    st.subheader(\"The number of people who liked the company's post per day\")\n",
    "    sns.set(style=\"whitegrid\")\n",
    "    plt.figure(figsize=(10, 6))\n",
    "    sns.barplot(x='Daily New Likes', y='Date', data=Users_interactions, palette='viridis')\n",
    "    plt.title('Number of People Who Liked the Company\\'s Post Per Day')\n",
    "    plt.xlabel('Daily New Likes')\n",
    "    plt.ylabel('Date')\n",
    "    st.pyplot()\n",
    "\n",
    "    # Add other visualizations here...\n",
    "\n",
    "with model_training:\n",
    "    st.subheader(\"**Company's Input For Prediction**\")\n",
    "    st.text(\"A LinearRegression (LR) algorithm, \\nwas used to create the model for prediction.\")\n",
    "    st.text(\"PROVIDE YOUR TRANSACTION DETAILS FOR PREDICTION.\")\n",
    "    \n",
    "    # Transaction types mapping\n",
    "    transaction_types = {\n",
    "        1: 'CASH_OUT',\n",
    "        2: 'PAYMENT',\n",
    "        3: 'CASH_IN',\n",
    "        4: 'TRANSFER',\n",
    "        5: 'DEBIT'\n",
    "    }\n",
    "\n",
    "    input_feature_1 = st.selectbox('Select transaction type', list(transaction_types.values()))\n",
    "    input_feature_2 = st.number_input('Enter ', min_value=0.0)\n",
    "    input_feature_3 = st.number_input('Enter current account balance', min_value=0.0)\n",
    "    input_feature_4 = st.number_input('Enter account balance after the transaction', min_value=0.0)\n",
    "\n",
    "    # Convert transaction type to numeric\n",
    "    transaction_type_numeric = list(transaction_types.keys())[list(transaction_types.values()).index(input_feature_1)]\n",
    "\n",
    "model_path = 'linear_regression_model.h5'\n",
    "with h5py.File(model_path, 'r') as model_file:\n",
    "    model = tf.keras.models.load_model(model_file)\n",
    "\n",
    "    submit = st.button('Predict')\n",
    "    if submit:\n",
    "        prediction = model.predict([[transaction_type_numeric, input_feature_2, input_feature_3, input_feature_4]])\n",
    "        threshold = 0.39727665\n",
    "        if prediction[0][0] <= threshold:\n",
    "            st.write('This transaction is **fraudulent**.')\n",
    "        else:\n",
    "            st.write('This transaction is **non-fraudulent**.')\n"
   ]
  }
 ],
 "metadata": {
  "kernelspec": {
   "display_name": "Python 3",
   "language": "python",
   "name": "python3"
  },
  "language_info": {
   "codemirror_mode": {
    "name": "ipython",
    "version": 3
   },
   "file_extension": ".py",
   "mimetype": "text/x-python",
   "name": "python",
   "nbconvert_exporter": "python",
   "pygments_lexer": "ipython3",
   "version": "3.12.0"
  }
 },
 "nbformat": 4,
 "nbformat_minor": 2
}
